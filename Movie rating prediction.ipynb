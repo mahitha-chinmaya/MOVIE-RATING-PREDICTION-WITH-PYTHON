{
 "cells": [
  {
   "cell_type": "markdown",
   "metadata": {},
   "source": [
    "# This code predict the IMDB movie rating from different features. We classify  the movie rating column by dividing the classes to 3 categories: 0-4 rating class 1, 4-7 rating class 2, 7-10 rating class 3. Then we compare between different machine learning algorithms and find the top important features to predict if the movie rating will be 7-10."
   ]
  },
  {
   "cell_type": "markdown",
   "metadata": {},
   "source": [
    "# Import Libraries"
   ]
  },
  {
   "cell_type": "code",
   "execution_count": 1,
   "metadata": {},
   "outputs": [],
   "source": [
    "import warnings\n",
    "warnings.filterwarnings('ignore')\n",
    "import pandas as pd\n",
    "import numpy as np\n",
    "import seaborn as sns\n",
    "import matplotlib.pyplot as plt\n",
    "from datetime import datetime\n",
    "from IPython.core.display import display, HTML\n",
    "import requests\n",
    "from sklearn.ensemble import RandomForestClassifier\n",
    "from sklearn.ensemble import ExtraTreesClassifier\n",
    "from sklearn.model_selection import train_test_split, KFold, cross_val_score\n",
    "from sklearn.linear_model import LinearRegression, Ridge, Lasso, LassoCV, Ridge, RidgeCV\n",
    "from sklearn.preprocessing import StandardScaler, PolynomialFeatures\n",
    "from sklearn.metrics import r2_score, mean_squared_error\n",
    "import scipy.stats as stats\n",
    "from sklearn.neighbors import KNeighborsClassifier\n",
    "from sklearn.ensemble import ExtraTreesClassifier\n",
    "from sklearn.ensemble import GradientBoostingClassifier\n",
    "from sklearn.preprocessing import StandardScaler,MinMaxScaler\n",
    "import pickle"
   ]
  },
  {
   "cell_type": "markdown",
   "metadata": {},
   "source": [
    "# Explore the dataset"
   ]
  },
  {
   "cell_type": "code",
   "execution_count": 2,
   "metadata": {},
   "outputs": [
    {
     "data": {
      "text/html": [
       "<div>\n",
       "<style scoped>\n",
       "    .dataframe tbody tr th:only-of-type {\n",
       "        vertical-align: middle;\n",
       "    }\n",
       "\n",
       "    .dataframe tbody tr th {\n",
       "        vertical-align: top;\n",
       "    }\n",
       "\n",
       "    .dataframe thead th {\n",
       "        text-align: right;\n",
       "    }\n",
       "</style>\n",
       "<table border=\"1\" class=\"dataframe\">\n",
       "  <thead>\n",
       "    <tr style=\"text-align: right;\">\n",
       "      <th></th>\n",
       "      <th>movie title</th>\n",
       "      <th>imdb rating</th>\n",
       "      <th>imdb raters</th>\n",
       "      <th>mpaa</th>\n",
       "      <th>genres</th>\n",
       "      <th>director</th>\n",
       "      <th>writer</th>\n",
       "      <th>stars</th>\n",
       "      <th>country</th>\n",
       "      <th>language</th>\n",
       "      <th>release date</th>\n",
       "      <th>budget</th>\n",
       "      <th>opening weekend</th>\n",
       "      <th>gross usa</th>\n",
       "      <th>cumulative worldwide</th>\n",
       "      <th>production companies</th>\n",
       "      <th>runtime (min)</th>\n",
       "    </tr>\n",
       "  </thead>\n",
       "  <tbody>\n",
       "    <tr>\n",
       "      <th>0</th>\n",
       "      <td>Mulan</td>\n",
       "      <td>5.4</td>\n",
       "      <td>57966.0</td>\n",
       "      <td>PG-13</td>\n",
       "      <td>[Action, Adventure, Drama, Family]</td>\n",
       "      <td>Niki Caro</td>\n",
       "      <td>Rick Jaffa</td>\n",
       "      <td>[Yifei Liu, Donnie Yen, Li Gong]</td>\n",
       "      <td>USA</td>\n",
       "      <td>English</td>\n",
       "      <td>2020-09-04</td>\n",
       "      <td>200000000.0</td>\n",
       "      <td>NaN</td>\n",
       "      <td>NaN</td>\n",
       "      <td>66800000.0</td>\n",
       "      <td>[Walt Disney Pictures, Jason T. Reed Productio...</td>\n",
       "      <td>115.0</td>\n",
       "    </tr>\n",
       "    <tr>\n",
       "      <th>1</th>\n",
       "      <td>The Invisible Man</td>\n",
       "      <td>7.1</td>\n",
       "      <td>136012.0</td>\n",
       "      <td>R</td>\n",
       "      <td>[Horror, Mystery, Sci-Fi, Thriller]</td>\n",
       "      <td>Leigh Whannell</td>\n",
       "      <td>Leigh Whannell</td>\n",
       "      <td>[Elisabeth Moss, Oliver Jackson-Cohen, Harriet...</td>\n",
       "      <td>Canada</td>\n",
       "      <td>English</td>\n",
       "      <td>2020-02-28</td>\n",
       "      <td>7000000.0</td>\n",
       "      <td>28205665.0</td>\n",
       "      <td>64914050.0</td>\n",
       "      <td>130722137.0</td>\n",
       "      <td>[Universal Pictures, Blumhouse Productions, Go...</td>\n",
       "      <td>124.0</td>\n",
       "    </tr>\n",
       "    <tr>\n",
       "      <th>2</th>\n",
       "      <td>On the Basis of Sex</td>\n",
       "      <td>7.1</td>\n",
       "      <td>23877.0</td>\n",
       "      <td>PG-13</td>\n",
       "      <td>[Biography, Drama]</td>\n",
       "      <td>Mimi Leder</td>\n",
       "      <td>Daniel Stiepleman</td>\n",
       "      <td>[Felicity Jones, Armie Hammer, Justin Theroux]</td>\n",
       "      <td>USA</td>\n",
       "      <td>English</td>\n",
       "      <td>2019-01-11</td>\n",
       "      <td>20000000.0</td>\n",
       "      <td>686355.0</td>\n",
       "      <td>24704837.0</td>\n",
       "      <td>38755900.0</td>\n",
       "      <td>[Alibaba Pictures, Amblin Partners, DreamWorks]</td>\n",
       "      <td>120.0</td>\n",
       "    </tr>\n",
       "    <tr>\n",
       "      <th>3</th>\n",
       "      <td>The Gentlemen</td>\n",
       "      <td>7.9</td>\n",
       "      <td>188297.0</td>\n",
       "      <td>R</td>\n",
       "      <td>[Action, Comedy, Crime]</td>\n",
       "      <td>Guy Ritchie</td>\n",
       "      <td>Guy Ritchie</td>\n",
       "      <td>[Matthew McConaughey, Charlie Hunnam, Michelle...</td>\n",
       "      <td>UK</td>\n",
       "      <td>English</td>\n",
       "      <td>2020-01-24</td>\n",
       "      <td>22000000.0</td>\n",
       "      <td>10651884.0</td>\n",
       "      <td>36471795.0</td>\n",
       "      <td>115171795.0</td>\n",
       "      <td>[STX Films, Miramax, Toff Guy Films]</td>\n",
       "      <td>113.0</td>\n",
       "    </tr>\n",
       "    <tr>\n",
       "      <th>4</th>\n",
       "      <td>Knives Out</td>\n",
       "      <td>7.9</td>\n",
       "      <td>394738.0</td>\n",
       "      <td>PG-13</td>\n",
       "      <td>[Comedy, Crime, Drama, Mystery, Thriller]</td>\n",
       "      <td>Rian Johnson</td>\n",
       "      <td>Rian Johnson</td>\n",
       "      <td>[Daniel Craig, Chris Evans, Ana de Armas]</td>\n",
       "      <td>USA</td>\n",
       "      <td>English</td>\n",
       "      <td>2019-11-27</td>\n",
       "      <td>40000000.0</td>\n",
       "      <td>26769548.0</td>\n",
       "      <td>165363234.0</td>\n",
       "      <td>309232797.0</td>\n",
       "      <td>[Lionsgate, Media Rights Capital (MRC), T-Street]</td>\n",
       "      <td>130.0</td>\n",
       "    </tr>\n",
       "  </tbody>\n",
       "</table>\n",
       "</div>"
      ],
      "text/plain": [
       "           movie title  imdb rating  imdb raters   mpaa  \\\n",
       "0                Mulan          5.4      57966.0  PG-13   \n",
       "1    The Invisible Man          7.1     136012.0      R   \n",
       "2  On the Basis of Sex          7.1      23877.0  PG-13   \n",
       "3        The Gentlemen          7.9     188297.0      R   \n",
       "4           Knives Out          7.9     394738.0  PG-13   \n",
       "\n",
       "                                      genres        director  \\\n",
       "0         [Action, Adventure, Drama, Family]       Niki Caro   \n",
       "1        [Horror, Mystery, Sci-Fi, Thriller]  Leigh Whannell   \n",
       "2                         [Biography, Drama]      Mimi Leder   \n",
       "3                    [Action, Comedy, Crime]     Guy Ritchie   \n",
       "4  [Comedy, Crime, Drama, Mystery, Thriller]    Rian Johnson   \n",
       "\n",
       "              writer                                              stars  \\\n",
       "0         Rick Jaffa                   [Yifei Liu, Donnie Yen, Li Gong]   \n",
       "1     Leigh Whannell  [Elisabeth Moss, Oliver Jackson-Cohen, Harriet...   \n",
       "2  Daniel Stiepleman     [Felicity Jones, Armie Hammer, Justin Theroux]   \n",
       "3        Guy Ritchie  [Matthew McConaughey, Charlie Hunnam, Michelle...   \n",
       "4       Rian Johnson          [Daniel Craig, Chris Evans, Ana de Armas]   \n",
       "\n",
       "  country language release date       budget  opening weekend    gross usa  \\\n",
       "0     USA  English   2020-09-04  200000000.0              NaN          NaN   \n",
       "1  Canada  English   2020-02-28    7000000.0       28205665.0   64914050.0   \n",
       "2     USA  English   2019-01-11   20000000.0         686355.0   24704837.0   \n",
       "3      UK  English   2020-01-24   22000000.0       10651884.0   36471795.0   \n",
       "4     USA  English   2019-11-27   40000000.0       26769548.0  165363234.0   \n",
       "\n",
       "   cumulative worldwide                               production companies  \\\n",
       "0            66800000.0  [Walt Disney Pictures, Jason T. Reed Productio...   \n",
       "1           130722137.0  [Universal Pictures, Blumhouse Productions, Go...   \n",
       "2            38755900.0    [Alibaba Pictures, Amblin Partners, DreamWorks]   \n",
       "3           115171795.0               [STX Films, Miramax, Toff Guy Films]   \n",
       "4           309232797.0  [Lionsgate, Media Rights Capital (MRC), T-Street]   \n",
       "\n",
       "   runtime (min)  \n",
       "0          115.0  \n",
       "1          124.0  \n",
       "2          120.0  \n",
       "3          113.0  \n",
       "4          130.0  "
      ]
     },
     "execution_count": 2,
     "metadata": {},
     "output_type": "execute_result"
    }
   ],
   "source": [
    "movies_8000 = pd.DataFrame(pd.read_pickle('IMDb_8000.pickle'))\n",
    "df1 = pd.DataFrame(pd.read_pickle('IMDb_top_movies.pickle'))\n",
    "df2 = pd.DataFrame(pd.read_pickle('IMDb_top_2000s.pickle'))\n",
    "movies_8100 = pd.concat([movies_8000,df1,df2])\n",
    "movies_8100.head()"
   ]
  },
  {
   "cell_type": "markdown",
   "metadata": {},
   "source": [
    "# Clean the dataset"
   ]
  },
  {
   "cell_type": "code",
   "execution_count": 3,
   "metadata": {},
   "outputs": [],
   "source": [
    "movies_8100 = movies_8100.drop(['runtime (min)','opening weekend','writer','country','language','opening weekend','gross usa'],axis=1)"
   ]
  },
  {
   "cell_type": "code",
   "execution_count": 4,
   "metadata": {},
   "outputs": [],
   "source": [
    "movies_df = movies_8100.copy()\n",
    "movies_df.drop_duplicates(subset=['movie title'],inplace=True)\n",
    "# Copy the original dataframe to mess with the data more freely\n",
    "movies_df.set_index('movie title',inplace=True)\n",
    "movies_df_drop = movies_df.dropna(subset=['budget'])"
   ]
  },
  {
   "cell_type": "code",
   "execution_count": 5,
   "metadata": {},
   "outputs": [],
   "source": [
    "movie_drop2 = movies_df_drop[movies_df_drop['imdb rating'].notna()]\n",
    "movie_drop2 = movies_df_drop[movies_df_drop['mpaa'].notna()]\n",
    "# Drop movies without a rating"
   ]
  },
  {
   "cell_type": "code",
   "execution_count": 6,
   "metadata": {},
   "outputs": [],
   "source": [
    "movie_drop2 = movie_drop2[movie_drop2['imdb raters'] >= 10000]\n",
    "# Remove movies with less than 1,000 raters for better validity in ratings\n",
    "movie_drop2 = movie_drop2[movie_drop2['budget'] >= 10000]\n",
    "# Remove movies with less than a $1,000 budget to focus model"
   ]
  },
  {
   "cell_type": "markdown",
   "metadata": {},
   "source": [
    "# Extract the feaatures we want from the original dataset"
   ]
  },
  {
   "cell_type": "markdown",
   "metadata": {},
   "source": [
    "# Feature: MPAA"
   ]
  },
  {
   "cell_type": "code",
   "execution_count": 7,
   "metadata": {},
   "outputs": [],
   "source": [
    "mpaa_df = pd.get_dummies(movie_drop2['mpaa'])\n",
    "# Get dummy variables for MPAA ratings\n",
    "df_added_mpaa_dummies = pd.concat([movie_drop2,mpaa_df], axis=1)\n",
    "# Add them to the rest of the data\n",
    "df_added_mpaa_dummies = df_added_mpaa_dummies.drop('mpaa',axis=1)\n",
    "df_added_mpaa_dummies = df_added_mpaa_dummies.drop(['Not Rated','Unrated'],axis=1)"
   ]
  },
  {
   "cell_type": "markdown",
   "metadata": {},
   "source": [
    "# Feature: Genre"
   ]
  },
  {
   "cell_type": "code",
   "execution_count": 8,
   "metadata": {},
   "outputs": [],
   "source": [
    "df_genres_added = pd.Series(df_added_mpaa_dummies['genres'])\n",
    "df_genres_added = pd.get_dummies(df_genres_added.apply(pd.Series).stack()).sum(level=0)\n",
    "# Turns genres into dummy variables\n",
    "df_genres_mpaa = pd.concat([df_added_mpaa_dummies, df_genres_added], axis=1)\n",
    "df_genres_mpaa = df_genres_mpaa.drop('genres',axis=1)\n",
    "df_genres_mpaa = df_genres_mpaa.drop('imdb raters',axis=1)"
   ]
  },
  {
   "cell_type": "markdown",
   "metadata": {},
   "source": [
    "# Feature: Director"
   ]
  },
  {
   "cell_type": "code",
   "execution_count": 10,
   "metadata": {},
   "outputs": [
    {
     "name": "stderr",
     "output_type": "stream",
     "text": [
      "C:\\Users\\14379\\AppData\\Local\\Continuum\\anaconda3\\lib\\site-packages\\ipykernel_launcher.py:12: SettingWithCopyWarning: \n",
      "A value is trying to be set on a copy of a slice from a DataFrame\n",
      "\n",
      "See the caveats in the documentation: https://pandas.pydata.org/pandas-docs/stable/user_guide/indexing.html#returning-a-view-versus-a-copy\n",
      "  if sys.path[0] == '':\n"
     ]
    }
   ],
   "source": [
    "empty_dir = movie_drop2[movie_drop2['director']==''].index.values.tolist()\n",
    "dir_fill = [\n",
    "    'Peter Ramsey, Bob Persichetti, Rodney Rothman',\n",
    "    'Ron Clements, John Musker',\n",
    "    'Byron Howard, Rich Moore',\n",
    "    'Pierre Coffin, Chris Renaud',\n",
    "    'Charlie Bean, Bob Logan, Paul Fisher',\n",
    "    'Frank Miller, Quentin Tarantino, Robert Rodriguez',\n",
    "    'Dan Scanlon, Saschka Unseld'\n",
    "    ]\n",
    "for num, movie in enumerate(empty_dir):\n",
    "    movie_drop2['director'][movie] = dir_fill[num]\n",
    "# Run through the empty directors and fill with added info"
   ]
  },
  {
   "cell_type": "code",
   "execution_count": 11,
   "metadata": {},
   "outputs": [],
   "source": [
    "def directors_list(directors):\n",
    "    \"\"\"\n",
    "    Separates a string of directors into a list of the separate directors.\n",
    "    Args:\n",
    "        directors: A string of directors separated by commas\n",
    "    Returns:\n",
    "        A list of directors.\n",
    "    \"\"\"\n",
    "    if \",\" in directors:\n",
    "        return [name.strip() for name in directors.split(\",\")]\n",
    "    else:\n",
    "        return [directors]\n",
    "\n",
    "\n",
    "def remove_paren(directors):\n",
    "    \"\"\"\n",
    "    Takes off aliases that are in parentheses next to a director's name\n",
    "    Args:\n",
    "        directors: A list of directors\n",
    "    Returns:\n",
    "        The same list of directors, but without aliases in parenthesis.\n",
    "    \"\"\"\n",
    "    dir_list = []\n",
    "    for director in directors:\n",
    "        if \"(\" in director:\n",
    "            dir_clean = director.split(\"(\")[0].strip()\n",
    "            dir_list.append(dir_clean)\n",
    "        else:\n",
    "            dir_list.append(director)\n",
    "    return dir_list"
   ]
  },
  {
   "cell_type": "code",
   "execution_count": 12,
   "metadata": {},
   "outputs": [],
   "source": [
    "movie_drop2['director'] = movie_drop2['director'].apply(lambda x: directors_list(x))\n",
    "movie_drop2['director'] = movie_drop2['director'].apply(lambda x: remove_paren(x))"
   ]
  },
  {
   "cell_type": "code",
   "execution_count": 14,
   "metadata": {},
   "outputs": [],
   "source": [
    "df_dir_exploded = movie_drop2.explode('director')\n",
    "dir_10 = df_dir_exploded['director'].value_counts()[:10].index.tolist()\n",
    "def top_directors(directors):\n",
    "    dir_list = []\n",
    "    for director in directors:\n",
    "        if director in dir_10:\n",
    "            dir_list.append(director)\n",
    "    return dir_list\n",
    "# Create a function to select top directors and create new columns\n",
    "# This will let us create dummy variables just for top directors\n",
    "\n",
    "movie_drop2['top'] = movie_drop2['director'].apply(lambda x: top_directors(x))\n",
    "# Apply that function to create a new column\n",
    "dir_df = pd.get_dummies(movie_drop2['top'].apply(pd.Series).stack()).sum(level=0)\n",
    "# Get dummies for the top directors\n",
    "df_dir_model = pd.concat([df_genres_mpaa, dir_df], axis=1)\n",
    "# Merge dummies with model DataFrame\n",
    "df_dir_model.replace(np.nan,0,inplace=True)"
   ]
  },
  {
   "cell_type": "markdown",
   "metadata": {},
   "source": [
    "# Feature: Stars"
   ]
  },
  {
   "cell_type": "code",
   "execution_count": 15,
   "metadata": {},
   "outputs": [],
   "source": [
    "stars_exploded = movie_drop2.explode('stars')\n",
    "# Let's do something similar to director\n",
    "stars_20 = stars_exploded['stars'].value_counts()[:20].index.tolist()\n",
    "# Let's take the top 20 stars instead of just 10\n",
    "def top_stars(stars):\n",
    "    star_list = []\n",
    "    for star in stars:\n",
    "        if star in stars_20:\n",
    "            star_list.append(star)\n",
    "    return star_list\n",
    "# Create a function to select top stars and create new columns\n",
    "# This will let us create dummy variables just for top stars\n",
    "movie_drop2['top stars'] = movie_drop2['stars'].apply(lambda x: top_stars(x))\n",
    "stars_df = pd.get_dummies(movie_drop2['top stars'].apply(pd.Series).stack()).sum(level=0)\n",
    "star_model = pd.concat([df_dir_model, stars_df[stars_20]], axis=1)\n",
    "star_model.replace(np.nan,0,inplace=True)"
   ]
  },
  {
   "cell_type": "markdown",
   "metadata": {},
   "source": [
    "# Feature: Production Company\n"
   ]
  },
  {
   "cell_type": "code",
   "execution_count": 16,
   "metadata": {},
   "outputs": [],
   "source": [
    "prod_exploded = movie_drop2.explode('production companies')\n",
    "# You know the drill\n",
    "prod_15 = prod_exploded['production companies'].value_counts()[:15].index.tolist()\n",
    "movie_drop2.loc[movie_drop2['production companies'].isnull(),'production companies'] = movie_drop2.loc[movie_drop2['production companies'].isnull(),'production companies'].apply(lambda x: [])\n",
    "def top_prod(comp):\n",
    "    comp_list = []\n",
    "    for co in comp:\n",
    "        if co in prod_15:\n",
    "            comp_list.append(co)\n",
    "    return comp_list\n",
    "movie_drop2['top prod co.'] = movie_drop2['production companies'].apply(lambda x: top_prod(x))\n",
    "prod_df = pd.get_dummies(movie_drop2['top prod co.'].apply(pd.Series).stack()).sum(level=0)\n",
    "prod_model = pd.concat([star_model, prod_df[prod_15]], axis=1)\n",
    "prod_model.replace(np.nan,0,inplace=True)"
   ]
  },
  {
   "cell_type": "markdown",
   "metadata": {},
   "source": [
    "# Feature: Years since release"
   ]
  },
  {
   "cell_type": "code",
   "execution_count": 17,
   "metadata": {},
   "outputs": [],
   "source": [
    "date = pd.to_datetime(datetime.now().date())\n",
    "movie_drop2['years since release'] = movie_drop2['release date'].apply(lambda x: (((date-pd.to_datetime(x))).days/ 365.25))\n",
    "prod_model['years since release'] = movie_drop2['years since release']\n",
    "prod_model = prod_model.drop(['director','stars','release date','production companies'],axis=1)"
   ]
  },
  {
   "cell_type": "markdown",
   "metadata": {},
   "source": [
    "# Create the classes for movie rating: 0-4 rating class 1, 4-7 rating class 2, 7-10 rating class 3. "
   ]
  },
  {
   "cell_type": "code",
   "execution_count": 134,
   "metadata": {},
   "outputs": [],
   "source": [
    "criteria = [prod_model['imdb rating'].between(0, 4), prod_model['imdb rating'].between(4, 7), prod_model['imdb rating'].between(7, 10)]\n",
    "values = [1, 2,3]\n",
    "prod_model['target'] = np.select(criteria, values, 0)\n",
    "prod_model.tail()\n",
    "prod_model = prod_model.drop('imdb rating',axis=1)"
   ]
  },
  {
   "cell_type": "markdown",
   "metadata": {},
   "source": [
    "# Create X_train, X_test, y_train, y_test"
   ]
  },
  {
   "cell_type": "code",
   "execution_count": 75,
   "metadata": {},
   "outputs": [],
   "source": [
    "X, y = prod_model.iloc[:,1:73], prod_model['target']\n",
    "cols = list(X.columns)\n",
    "X_train, X_test, y_train, y_test = train_test_split(X, y, test_size=.2, random_state=20)"
   ]
  },
  {
   "cell_type": "markdown",
   "metadata": {},
   "source": [
    "# Define all the classifiers"
   ]
  },
  {
   "cell_type": "code",
   "execution_count": 76,
   "metadata": {},
   "outputs": [],
   "source": [
    "rf = RandomForestClassifier(n_estimators=1000)\n",
    "KNN = KNeighborsClassifier()\n",
    "Extra = ExtraTreesClassifier()\n",
    "GD = GradientBoostingClassifier()"
   ]
  },
  {
   "cell_type": "markdown",
   "metadata": {},
   "source": [
    "# Classify using Gradient Boosting"
   ]
  },
  {
   "cell_type": "code",
   "execution_count": 91,
   "metadata": {},
   "outputs": [
    {
     "name": "stdout",
     "output_type": "stream",
     "text": [
      "GradientBoostingClassifier: : 75.30120481927712\n"
     ]
    }
   ],
   "source": [
    "GD.fit(X_train, y_train)\n",
    "gd = GD.score(X_test, y_test)\n",
    "print(f'GradientBoostingClassifier: :',gd*100)"
   ]
  },
  {
   "cell_type": "markdown",
   "metadata": {},
   "source": [
    "# Classify using Random Forest"
   ]
  },
  {
   "cell_type": "code",
   "execution_count": 90,
   "metadata": {},
   "outputs": [
    {
     "name": "stdout",
     "output_type": "stream",
     "text": [
      "Random forest: 82.53012048192771\n"
     ]
    }
   ],
   "source": [
    "rf.fit(X_train, y_train)\n",
    "RF = rf.score(X_test, y_test)\n",
    "print(f'Random forest:', RF*100)"
   ]
  },
  {
   "cell_type": "markdown",
   "metadata": {},
   "source": [
    "# Classify using KNN"
   ]
  },
  {
   "cell_type": "code",
   "execution_count": 138,
   "metadata": {},
   "outputs": [
    {
     "name": "stdout",
     "output_type": "stream",
     "text": [
      "KNN:  65.06024096385542\n"
     ]
    }
   ],
   "source": [
    "KNN.fit(X_train, y_train)\n",
    "knn = KNN.score(X_test, y_test)\n",
    "print(f'KNN: ', knn*100)"
   ]
  },
  {
   "cell_type": "markdown",
   "metadata": {},
   "source": [
    "# Classify using Extra Trees"
   ]
  },
  {
   "cell_type": "code",
   "execution_count": 140,
   "metadata": {},
   "outputs": [
    {
     "name": "stdout",
     "output_type": "stream",
     "text": [
      "Extratrees:  77.71084337349397\n"
     ]
    }
   ],
   "source": [
    "Extra.fit(X_train, y_train)\n",
    "extra = Extra.score(X_test, y_test)\n",
    "print(f'Extratrees: ',extra*100)"
   ]
  },
  {
   "cell_type": "markdown",
   "metadata": {},
   "source": [
    "# Plot the accuracies of the classifiers"
   ]
  },
  {
   "cell_type": "code",
   "execution_count": 100,
   "metadata": {},
   "outputs": [
    {
     "data": {
      "image/png": "[encoded data removed]",
      "text/plain": [
       "<Figure size 720x432 with 1 Axes>"
      ]
     },
     "metadata": {
      "needs_background": "light"
     },
     "output_type": "display_data"
    }
   ],
   "source": [
    "accuracy = ['Gradient Boosting','KNN','Random Forest','Extra Trees']\n",
    "values = [75.3,65.1,82.5,77.1]\n",
    "plt.figure(figsize=(10,6))\n",
    "plt.bar(accuracy, values)\n",
    "# Displaying the bar plot\n",
    "plt.xlabel('Classification algorithm')\n",
    "plt.ylabel('Accuracy%')\n",
    "plt.title('Comparison between different algorithms accuracy')\n",
    "plt.show()"
   ]
  },
  {
   "cell_type": "markdown",
   "metadata": {},
   "source": [
    "# Plot feature importance ranking"
   ]
  },
  {
   "cell_type": "code",
   "execution_count": 134,
   "metadata": {},
   "outputs": [
    {
     "data": {
      "image/png": "[encoded data removed]",
      "text/plain": [
       "<Figure size 1440x720 with 1 Axes>"
      ]
     },
     "metadata": {
      "needs_background": "light"
     },
     "output_type": "display_data"
    }
   ],
   "source": [
    "ax1 = eval_df1.plot(x = 'Feature',y ='Importances',kind='bar', figsize=(20,10), fontsize=13)\n",
    "plt.title('Feature Importances', fontsize=15)\n",
    "ax1.set_xlabel('Features', fontsize=13)\n",
    "ax1.set_ylabel('Importance Scores by sklearn', fontsize=13)\n",
    "plt.show()"
   ]
  },
  {
   "cell_type": "code",
   "execution_count": null,
   "metadata": {},
   "outputs": [],
   "source": []
  }
 ],
 "metadata": {
  "kernelspec": {
   "display_name": "Python 3",
   "language": "python",
   "name": "python3"
  },
  "language_info": {
   "codemirror_mode": {
    "name": "ipython",
    "version": 3
   },
   "file_extension": ".py",
   "mimetype": "text/x-python",
   "name": "python",
   "nbconvert_exporter": "python",
   "pygments_lexer": "ipython3",
   "version": "3.7.4"
  }
 },
 "nbformat": 4,
 "nbformat_minor": 2
}
